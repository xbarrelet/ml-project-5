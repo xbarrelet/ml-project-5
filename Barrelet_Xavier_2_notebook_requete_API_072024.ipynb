{
 "cells": [
  {
   "cell_type": "code",
   "execution_count": 1,
   "metadata": {},
   "outputs": [],
   "source": [
    "import warnings\n",
    "from datetime import datetime\n",
    "from pprint import pprint"
   ]
  },
  {
   "cell_type": "code",
   "execution_count": 2,
   "metadata": {},
   "outputs": [],
   "source": [
    "import pandas as pd\n",
    "from pandas import DataFrame\n",
    "from stackapi import StackAPI"
   ]
  },
  {
   "cell_type": "code",
   "execution_count": 3,
   "metadata": {},
   "outputs": [],
   "source": [
    "warnings.filterwarnings(\"ignore\", category=DeprecationWarning)"
   ]
  },
  {
   "cell_type": "markdown",
   "metadata": {},
   "source": [
    "STACKAPI CONFIGURATION. No need for an API key here as we only want to fetch 50 results."
   ]
  },
  {
   "cell_type": "code",
   "execution_count": 4,
   "metadata": {},
   "outputs": [],
   "source": [
    "SITE = StackAPI('stackoverflow')\n",
    "SITE.page_size = 50\n",
    "SITE.max_pages = 1"
   ]
  },
  {
   "cell_type": "markdown",
   "metadata": {},
   "source": [
    "PANDAS CONFIGURATION"
   ]
  },
  {
   "cell_type": "code",
   "execution_count": 5,
   "metadata": {},
   "outputs": [],
   "source": [
    "pd.set_option('display.max_rows', None)\n",
    "pd.set_option('display.max_columns', None)"
   ]
  },
  {
   "cell_type": "code",
   "execution_count": 6,
   "metadata": {},
   "outputs": [],
   "source": [
    "def fetch_questions():\n",
    "    \"\"\"Fetch 50 questions with at least 50 votes from the StackOverflow API.\"\"\"\n",
    "    # https://stackapi.readthedocs.io/en/latest/user/complex.html\n",
    "    questions = SITE.fetch('questions',\n",
    "                           fromdate=datetime(2020, 1, 1),\n",
    "                           todate=datetime(2024, 7, 30),\n",
    "                           min=50,\n",
    "                           sort='votes',\n",
    "                           filter='withbody',\n",
    "                           # tagged='python'\n",
    "                           )\n",
    "    return questions"
   ]
  },
  {
   "cell_type": "code",
   "execution_count": 7,
   "metadata": {},
   "outputs": [
    {
     "name": "stdout",
     "output_type": "stream",
     "text": [
      "Starting API script.\n",
      "\n",
      "50 questions received from API.\n",
      "\n",
      "Displaying first ten lines of dataframe:\n",
      "\n",
      "                                                body  score  \\\n",
      "0  <p>I created the default IntelliJ IDEA React p...   2387   \n",
      "1  <p>I got this error on my console when I tried...   1723   \n",
      "2  <p>After a <code>git pull origin master</code>...   1362   \n",
      "3  <p>I am trying to get a large (and working on ...    934   \n",
      "4  <p>I downloaded the newest Android Studio, and...    911   \n",
      "5  <p>When trying to install the npm packages usi...    778   \n",
      "6  <p>I don't know why I am getting this error an...    759   \n",
      "7  <p>I am writing code so that before the data i...    723   \n",
      "8  <p>I've created a blank React project, using t...    655   \n",
      "9  <p>Just sometime ago I started getting this wa...    655   \n",
      "\n",
      "                                                tags  \\\n",
      "0                        [node.js, reactjs, webpack]   \n",
      "1  [git, github, github-api, git-pull, personal-a...   \n",
      "2  [git, git-merge, git-pull, git-config, fast-fo...   \n",
      "3            [ios, xcode, cocoapods, arm64, xcode12]   \n",
      "4  [android, android-studio, gradle, android-grad...   \n",
      "5               [angular, typescript, npm, angular9]   \n",
      "6                                          [reactjs]   \n",
      "7                             [reactjs, react-hooks]   \n",
      "8  [reactjs, webpack, sass, create-react-app, nod...   \n",
      "9                       [git, github, ssh, ssh-keys]   \n",
      "\n",
      "                                               title  \n",
      "0  Error message &quot;error:0308010C:digital env...  \n",
      "1  Message &quot;Support for password authenticat...  \n",
      "2  How can I deal with this Git warning? &quot;Pu...  \n",
      "3  Xcode building for iOS Simulator, but linking ...  \n",
      "4  Android Studio Error &quot;Android Gradle plug...  \n",
      "5  Unable to resolve dependency tree error when i...  \n",
      "6  Attempted import error: &#39;Switch&#39; is no...  \n",
      "7  React Hooks: useEffect() is called twice even ...  \n",
      "8  Error: &#39;node-sass&#39; version 5.0.0 is in...  \n",
      "9  Why are connections to GitHub over SSH throwin...  \n",
      "\n",
      "API script now done.\n"
     ]
    }
   ],
   "source": [
    "print(\"Starting API script.\\n\")\n",
    "\n",
    "json_questions_answer = fetch_questions()\n",
    "extracted_questions = json_questions_answer['items']\n",
    "\n",
    "trimmed_questions = [{\n",
    "    \"body\": question['body'],\n",
    "    \"score\": question['score'],\n",
    "    \"tags\": question['tags'],\n",
    "    \"title\": question['title']\n",
    "} for question in extracted_questions]\n",
    "\n",
    "print(f\"{len(trimmed_questions)} questions received from API.\\n\")\n",
    "\n",
    "df: DataFrame = DataFrame(trimmed_questions)\n",
    "\n",
    "print(\"Displaying first ten lines of dataframe:\\n\")\n",
    "pprint(df.head(10))\n",
    "\n",
    "print(\"\\nAPI script now done.\")"
   ]
  },
  {
   "cell_type": "code",
   "execution_count": null,
   "metadata": {},
   "outputs": [],
   "source": []
  }
 ],
 "metadata": {
  "kernelspec": {
   "display_name": "Python 3 (ipykernel)",
   "language": "python",
   "name": "python3"
  },
  "language_info": {
   "codemirror_mode": {
    "name": "ipython",
    "version": 3
   },
   "file_extension": ".py",
   "mimetype": "text/x-python",
   "name": "python",
   "nbconvert_exporter": "python",
   "pygments_lexer": "ipython3",
   "version": "3.12.3"
  }
 },
 "nbformat": 4,
 "nbformat_minor": 4
}
