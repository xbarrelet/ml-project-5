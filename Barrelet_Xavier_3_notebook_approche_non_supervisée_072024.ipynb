{
 "cells": [
  {
   "cell_type": "code",
   "execution_count": 1,
   "metadata": {},
   "outputs": [],
   "source": [
    "import json\n",
    "import os\n",
    "import shutil\n",
    "import warnings\n",
    "from pprint import pprint"
   ]
  },
  {
   "cell_type": "code",
   "execution_count": 2,
   "metadata": {},
   "outputs": [],
   "source": [
    "import gensim\n",
    "import gensim.parsing.preprocessing as gsp\n",
    "import matplotlib.pyplot as plt\n",
    "import nltk\n",
    "import numpy as np\n",
    "import pandas as pd\n",
    "import pyLDAvis\n",
    "import pyLDAvis.gensim_models as gensimvis\n",
    "from gensim import corpora\n",
    "from gensim.models import CoherenceModel\n",
    "from nltk import WordNetLemmatizer, PorterStemmer\n",
    "from tqdm import tqdm\n",
    "from IPython.core.display import HTML"
   ]
  },
  {
   "cell_type": "code",
   "execution_count": 3,
   "metadata": {},
   "outputs": [],
   "source": [
    "warnings.filterwarnings(\"ignore\", category=DeprecationWarning)"
   ]
  },
  {
   "cell_type": "markdown",
   "metadata": {},
   "source": [
    "MISC CONFIGURATION"
   ]
  },
  {
   "cell_type": "code",
   "execution_count": 4,
   "metadata": {},
   "outputs": [],
   "source": [
    "plt.style.use(\"fivethirtyeight\")\n",
    "pd.set_option('display.max_rows', None)\n",
    "pd.set_option('display.max_columns', None)"
   ]
  },
  {
   "cell_type": "markdown",
   "metadata": {},
   "source": [
    "COHERENCE METRIC USED FOR HYPERPARAMETER OPTIMIZATION."
   ]
  },
  {
   "cell_type": "code",
   "execution_count": 5,
   "metadata": {},
   "outputs": [],
   "source": [
    "COHERENCE_METRIC = \"u_mass\""
   ]
  },
  {
   "cell_type": "markdown",
   "metadata": {},
   "source": [
    "PATHS"
   ]
  },
  {
   "cell_type": "code",
   "execution_count": 6,
   "metadata": {},
   "outputs": [],
   "source": [
    "CACHED_QUESTIONS_FILE = 'cached_questions.json'"
   ]
  },
  {
   "cell_type": "markdown",
   "metadata": {},
   "source": [
    "NLTK PACKAGES"
   ]
  },
  {
   "cell_type": "code",
   "execution_count": 7,
   "metadata": {},
   "outputs": [
    {
     "name": "stderr",
     "output_type": "stream",
     "text": [
      "[nltk_data] Downloading package wordnet to /home/xavier/nltk_data...\n",
      "[nltk_data]   Package wordnet is already up-to-date!\n",
      "[nltk_data] Downloading package punkt to /home/xavier/nltk_data...\n",
      "[nltk_data]   Package punkt is already up-to-date!\n"
     ]
    },
    {
     "data": {
      "text/plain": [
       "True"
      ]
     },
     "execution_count": 7,
     "metadata": {},
     "output_type": "execute_result"
    }
   ],
   "source": [
    "nltk.download('wordnet')\n",
    "nltk.download('punkt')"
   ]
  },
  {
   "cell_type": "markdown",
   "metadata": {},
   "source": [
    "NLTK OBJECTS"
   ]
  },
  {
   "cell_type": "code",
   "execution_count": 8,
   "metadata": {},
   "outputs": [],
   "source": [
    "lemmatizer = WordNetLemmatizer()\n",
    "stemmer = PorterStemmer()"
   ]
  },
  {
   "cell_type": "code",
   "execution_count": 9,
   "metadata": {},
   "outputs": [],
   "source": [
    "def load_cached_questions():\n",
    "    \"\"\"Load questions from the cache file.\"\"\"\n",
    "    with open(CACHED_QUESTIONS_FILE, 'r', encoding='utf-8') as f:\n",
    "        return json.load(f)"
   ]
  },
  {
   "cell_type": "code",
   "execution_count": 10,
   "metadata": {},
   "outputs": [],
   "source": [
    "def extract_and_clean_text(question: dict):\n",
    "    \"\"\"Create a new 'text' field for each question containing the cleaned, tokenized and lemmatized title + body.\"\"\"\n",
    "    title = question['title']\n",
    "    body = question['body']\n",
    "    text = f\"{title} {body}\"\n",
    "    \n",
    "    for filter in [gsp.strip_tags,\n",
    "                   gsp.strip_punctuation,\n",
    "                   gsp.strip_multiple_whitespaces,\n",
    "                   gsp.strip_numeric,\n",
    "                   gsp.remove_stopwords,\n",
    "                   gsp.strip_short,\n",
    "                   gsp.lower_to_unicode]:\n",
    "        text = filter(text)\n",
    "        \n",
    "    tokenized_text = nltk.tokenize.word_tokenize(text)\n",
    "\n",
    "    # words_stemmed = (stemmer.stem(w) for w in words_without_short_words)\n",
    "    words_lemmatized = [lemmatizer.lemmatize(w) for w in tokenized_text]\n",
    "    question['text'] = \" \".join(words_lemmatized)\n",
    "\n",
    "    # bigrams = nltk.bigrams(tokenized_text)\n",
    "    # question['bigrams'] = [' '.join(bigram) for bigram in bigrams]\n",
    "\n",
    "    # trigrams = nltk.trigrams(tokenized_text)\n",
    "    # question['trigrams'] = [' '.join(trigram) for trigram in trigrams]\n",
    "    return question"
   ]
  },
  {
   "cell_type": "code",
   "execution_count": 11,
   "metadata": {},
   "outputs": [],
   "source": [
    "def compute_coherence_values_of_lda_model(corpus, id2word, texts, num_topics, alpha, eta):\n",
    "    \"\"\"Train a model and compute its coherence value.\"\"\"\n",
    "    lda_model = gensim.models.LdaMulticore(corpus=corpus,\n",
    "                                           id2word=id2word,\n",
    "                                           num_topics=num_topics,\n",
    "                                           # passes=1,\n",
    "                                           passes=10,\n",
    "                                           alpha=alpha,\n",
    "                                           eta=eta)\n",
    "    \n",
    "    coherence_model_lda = CoherenceModel(model=lda_model, texts=texts, dictionary=id2word, coherence=COHERENCE_METRIC)\n",
    "    \n",
    "    return coherence_model_lda.get_coherence()"
   ]
  },
  {
   "cell_type": "code",
   "execution_count": 12,
   "metadata": {},
   "outputs": [],
   "source": [
    "def train_lda_model(questions):\n",
    "    \"\"\"Find the best hyperparameters for the LDA model and train it, visualizes the LDA topics and saves the model.\"\"\"\n",
    "    print(\"Starting the search of the best hyperparameters of the LDA model.\\n\")\n",
    "    \n",
    "    texts = [question['text'].split(\" \") for question in questions]\n",
    "    id2word = corpora.Dictionary(texts)\n",
    "    corpus = [id2word.doc2bow(text) for text in texts]\n",
    "    \n",
    "    best_hyperparameters: dict = get_best_hyperparameters_of_lda_model(corpus, id2word, texts)\n",
    "    \n",
    "    print(f\"Best hyperparameters found:{best_hyperparameters}.\\n\")\n",
    "    lda_model = gensim.models.LdaMulticore(corpus=corpus,\n",
    "                                           id2word=id2word,\n",
    "                                           num_topics=best_hyperparameters['num_topics'],\n",
    "                                           passes=5,\n",
    "                                           alpha=best_hyperparameters['alpha'],\n",
    "                                           eta=best_hyperparameters['eta'])\n",
    "    \n",
    "    print(\"Visualizing the topics of the LDA model.\\n\")\n",
    "    visualize_lda_topics(corpus, id2word, lda_model, best_hyperparameters['num_topics'])\n",
    "\n",
    "    print(\"Saving the LDA model.\\n\")\n",
    "    save_model(best_hyperparameters, lda_model)"
   ]
  },
  {
   "cell_type": "code",
   "execution_count": 13,
   "metadata": {},
   "outputs": [],
   "source": [
    "def save_model(best_hyperparameters, lda_model):\n",
    "    \"\"\"Save the LDA model\"\"\"\n",
    "    os.makedirs('models/unsupervised', exist_ok=True)\n",
    "    lda_model.save(f\"models/unsupervised/lda_model_with_{best_hyperparameters['num_topics']}_topics.model\")"
   ]
  },
  {
   "cell_type": "code",
   "execution_count": 14,
   "metadata": {},
   "outputs": [],
   "source": [
    "def get_best_hyperparameters_of_lda_model(corpus, id2word, texts):\n",
    "    \"\"\"Returns the best hyperparameters for the LDA model based on the coherence metric.\"\"\"\n",
    "    topics_range = range(2, 12, 1)\n",
    "    \n",
    "    alphas = list(np.arange(0.01, 2, 0.3))\n",
    "    alphas.append('symmetric')\n",
    "    alphas.append('asymmetric')\n",
    "    \n",
    "    etas = list(np.arange(0.01, 1, 0.3))\n",
    "    etas.append('symmetric')\n",
    "    etas.append(None)\n",
    "    \n",
    "    model_results = []\n",
    "\n",
    "    # OVERRIDES for test\n",
    "    # topics_range = [2]\n",
    "    # alphas = [1.51]\n",
    "    # etas = [0.9]\n",
    "    \n",
    "    pbar = tqdm(total=(len(etas) * len(alphas) * len(topics_range)))\n",
    "    \n",
    "    for num_topics in topics_range:\n",
    "        for alpha in alphas:\n",
    "            for eta in etas:\n",
    "                cv = compute_coherence_values_of_lda_model(corpus, id2word, texts, num_topics, alpha, eta)\n",
    "                \n",
    "                model_results.append({\"num_topics\": num_topics, \"alpha\": alpha, \"eta\": eta, \"cv\": cv})\n",
    "                pbar.update(1)\n",
    "                \n",
    "    pbar.close()\n",
    "    \n",
    "    return max(model_results, key=lambda x: x['cv'])"
   ]
  },
  {
   "cell_type": "code",
   "execution_count": 15,
   "metadata": {},
   "outputs": [],
   "source": [
    "def visualize_lda_topics(corpus, id2word, lda_model, num_topics):\n",
    "    \"\"\"Visualize the topics of the LDA model.\"\"\"\n",
    "    LDAvis_prepared = gensimvis.prepare(lda_model, corpus, id2word)\n",
    "    \n",
    "    # Workaround as pyLDAvis.display() doesn't work, even after pyLDAvis.enable_notebook(local=True)\n",
    "    os.mkdir(\"temp\")\n",
    "    pyLDAvis.save_html(LDAvis_prepared, 'temp/lda_results.html')\n",
    "    display(HTML('temp/lda_results.html'))\n",
    "    shutil.rmtree('temp', ignore_errors=True)\n"
   ]
  },
  {
   "cell_type": "code",
   "execution_count": 16,
   "metadata": {},
   "outputs": [
    {
     "name": "stdout",
     "output_type": "stream",
     "text": [
      "Starting unsupervised learning script.\n",
      "\n",
      "2500 questions loaded from cache.\n",
      "\n",
      "Texts extracted and cleaned.\n",
      "\n",
      "Starting the search of the best hyperparameters of the LDA model.\n",
      "\n"
     ]
    },
    {
     "name": "stderr",
     "output_type": "stream",
     "text": [
      "100%|█████████████████████████████████████████████████████████████████████████████████████████████████████████████████████████████████████████████████████████████████████████████████████████████████████████████████████| 1/1 [00:06<00:00,  6.90s/it]"
     ]
    },
    {
     "name": "stdout",
     "output_type": "stream",
     "text": [
      "Best hyperparameters found:{'num_topics': 2, 'alpha': 1.51, 'eta': 0.9, 'cv': -2.325481184634864}.\n",
      "\n"
     ]
    },
    {
     "name": "stderr",
     "output_type": "stream",
     "text": [
      "\n"
     ]
    },
    {
     "name": "stdout",
     "output_type": "stream",
     "text": [
      "Visualizing the topics of the LDA model.\n",
      "\n"
     ]
    },
    {
     "data": {
      "text/html": [
       "\n",
       "<link rel=\"stylesheet\" type=\"text/css\" href=\"https://cdn.jsdelivr.net/gh/bmabey/pyLDAvis@3.4.0/pyLDAvis/js/ldavis.v1.0.0.css\">\n",
       "\n",
       "\n",
       "<div id=\"ldavis_el1923021359620522281761798015133\" style=\"background-color:white;\"></div>\n",
       "<script type=\"text/javascript\">\n",
       "\n",
       "var ldavis_el1923021359620522281761798015133_data = {\"mdsDat\": {\"x\": [0.04297625010545241, -0.04297625010545241], \"y\": [0.0, 0.0], \"topics\": [1, 2], \"cluster\": [1, 1], \"Freq\": [51.14799400367447, 48.85200599632553]}, \"tinfo\": {\"Term\": [\"quot\", \"node\", \"android\", \"div\", \"string\", \"class\", \"module\", \"git\", \"col\", \"php\", \"list\", \"ruby\", \"origin\", \"height\", \"version\", \"project\", \"angular\", \"button\", \"what\", \"path\", \"mysql\", \"master\", \"text\", \"character\", \"xmm\", \"github\", \"nan\", \"unexpected\", \"panda\", \"app\", \"mul\", \"xmm\", \"eugene\", \"sc\", \"sprocket\", \"nvm\", \"webpack\", \"popcnt\", \"rdx\", \"rcx\", \"phase\", \"col\", \"xerces\", \"nan\", \"conda\", \"selenium\", \"addsd\", \"rbx\", \"michaeljames\", \"eri\", \"candidate\", \"mulsd\", \"auth\", \"ptr\", \"submodule\", \"webdriver\", \"mmword\", \"uint\", \"factorcount\", \"loader\", \"angular\", \"node\", \"asset\", \"maven\", \"quot\", \"panda\", \"origin\", \"router\", \"sun\", \"sec\", \"module\", \"ssh\", \"dataframe\", \"express\", \"require\", \"project\", \"stash\", \"github\", \"git\", \"master\", \"version\", \"path\", \"remote\", \"app\", \"push\", \"http\", \"request\", \"home\", \"html\", \"package\", \"branch\", \"row\", \"var\", \"value\", \"how\", \"server\", \"user\", \"file\", \"like\", \"array\", \"java\", \"python\", \"use\", \"new\", \"the\", \"change\", \"data\", \"code\", \"function\", \"key\", \"error\", \"what\", \"way\", \"object\", \"want\", \"gem\", \"cellar\", \"rake\", \"adapter\", \"unexpected\", \"zjm\", \"ruby\", \"auto\", \"tocolor\", \"errormessage\", \"postgresql\", \"linearlayout\", \"dialog\", \"logo\", \"windowmanager\", \"intent\", \"fragment\", \"align\", \"flex\", \"transition\", \"paw\", \"animal\", \"applicant\", \"edittext\", \"license\", \"environmenterror\", \"brace\", \"findviewbyid\", \"justify\", \"fluxcapacitor\", \"activity\", \"radio\", \"android\", \"height\", \"wrap\", \"button\", \"div\", \"php\", \"postgres\", \"operator\", \"character\", \"screen\", \"mysql\", \"width\", \"border\", \"class\", \"layout\", \"parent\", \"string\", \"list\", \"container\", \"usr\", \"studio\", \"text\", \"what\", \"color\", \"docker\", \"how\", \"file\", \"error\", \"line\", \"want\", \"code\", \"method\", \"way\", \"use\", \"public\", \"image\", \"example\", \"return\", \"like\", \"object\", \"function\", \"type\", \"need\", \"new\", \"the\", \"command\", \"work\", \"difference\", \"data\", \"quot\", \"git\", \"value\"], \"Freq\": [3705.0, 467.0, 422.0, 377.0, 790.0, 509.0, 352.0, 1078.0, 154.0, 205.0, 462.0, 121.0, 178.0, 161.0, 408.0, 306.0, 129.0, 144.0, 835.0, 275.0, 142.0, 224.0, 330.0, 127.0, 77.0, 197.0, 85.0, 74.0, 96.0, 289.0, 54.84347365916282, 75.1165517462111, 44.0639246470793, 23.385886550351938, 28.38940520985905, 37.62563083594737, 41.75224905428978, 25.810783817318534, 25.809402177055112, 29.991315136903804, 30.82568228194711, 146.02865564695173, 24.88656219713163, 80.81104867697738, 24.82542045390815, 25.648318320138234, 18.072046077643094, 19.710313535294432, 18.873193513641926, 23.00752935809432, 19.682073141235453, 18.0193044575272, 32.03799670489277, 19.646250371995887, 15.5087850291155, 21.282846960473236, 19.622048778767184, 16.30632542686638, 16.304257128038305, 36.86898303650507, 120.46310049168942, 427.9742245946491, 47.44700400221368, 40.817619354889565, 3230.3393902309954, 89.05972403616609, 158.78717128863184, 42.13903341984086, 38.78905516908978, 28.495876822267235, 302.48376798734154, 89.91049815933752, 105.77948554441794, 68.64283467627722, 68.98115343186501, 247.07220297058998, 61.11577920659943, 163.2442429008215, 776.1118813778733, 182.97641298630714, 314.7073557993221, 218.58874010285825, 178.110259332267, 221.46571464174025, 149.8399852218081, 280.11820820604197, 173.83801123627944, 111.1806502594988, 184.58743882599356, 189.1974729969854, 317.7198309616288, 152.3537714803607, 263.6727272594817, 343.7889856697743, 744.0032275066778, 202.32743346803895, 262.00305661680693, 635.437264860632, 395.4738174468347, 263.61183521028175, 222.35645645494154, 281.4347948532054, 393.11540745597824, 296.2415172772014, 273.1062174064935, 242.20493401657814, 253.26831022518545, 302.6290233239514, 273.5782056960003, 208.38958820215544, 286.53497839234734, 296.2534692977934, 259.27311856523585, 241.0576898561592, 253.48060008397366, 58.25569100471755, 44.424749403528274, 30.070874726801886, 25.730752985030286, 70.59241772598672, 14.69686250760434, 113.67332529465466, 50.93812175948924, 15.443801020348936, 14.590775222609988, 71.00330436058198, 14.504583588838056, 32.42724840467995, 28.34796220784272, 20.179594023050946, 40.48875323297579, 44.501438384586194, 50.092972938437946, 42.78757042748031, 22.523484973396496, 13.589552559822119, 20.017811435121548, 11.12594487926362, 16.756544348533765, 18.351650511038763, 10.272278151795451, 15.892093108893139, 15.889715209913254, 19.074927289345823, 14.255987317508053, 79.78529369968238, 30.166344439460232, 364.1147667378875, 141.47884035250686, 35.65121039995857, 126.90497673154279, 322.0190585887769, 178.34640619889146, 47.16025736163335, 87.27432605597508, 110.56813304349295, 43.08471141208416, 121.53511045718824, 94.81350395933042, 41.51461840174032, 395.5842614270738, 95.84539883599714, 74.59446642516056, 577.9387182097352, 342.59723935775907, 135.84361923335982, 102.65155981654027, 105.24062179050013, 240.6504677326392, 538.9857717245033, 114.45407111165903, 169.07521954286952, 858.7717794648202, 748.5579722494306, 427.846609046165, 323.92703782809195, 378.866429234185, 390.5914247985796, 208.36422386838788, 341.31704929768165, 393.62635922714463, 189.37874453331423, 162.83006385746873, 239.08339553838348, 229.3562246433772, 352.4519045907157, 273.07989827946705, 290.84922885553124, 235.2604255866225, 207.34794184118707, 278.7748997590946, 264.8497325445043, 228.22971462702444, 225.42665168176995, 189.94985366331971, 224.70041569612397, 474.9096517763733, 302.6721624573088, 225.05795312869998], \"Total\": [3705.0, 467.0, 422.0, 377.0, 790.0, 509.0, 352.0, 1078.0, 154.0, 205.0, 462.0, 121.0, 178.0, 161.0, 408.0, 306.0, 129.0, 144.0, 835.0, 275.0, 142.0, 224.0, 330.0, 127.0, 77.0, 197.0, 85.0, 74.0, 96.0, 289.0, 56.28078863604826, 77.45387937739153, 45.692464610802254, 24.518401680791712, 29.811652872815532, 39.51610101780307, 43.9272172607845, 27.16486512565911, 27.165269518065546, 31.575653307324327, 32.45779555312166, 154.20925515583184, 26.282809104772486, 85.39269807980175, 26.282610711381206, 27.16489357388093, 19.22456305987089, 20.989030202261773, 20.106911075692125, 24.517853062753357, 20.989068472492097, 19.224574303861452, 34.22206934303332, 20.98894871866102, 16.578199509812784, 22.753131934001267, 20.988696532980875, 17.46018326886684, 17.460206189597127, 39.51438571473196, 129.50557758439825, 467.4115112425136, 50.98416525288164, 43.92605028856285, 3705.2490420073686, 96.86125435148162, 178.02938819313084, 45.69032294785775, 42.160926604728665, 30.692774017129217, 352.7081742489184, 101.27077390343084, 120.67982287041512, 76.5682502492694, 77.44988613000729, 306.82843666998065, 68.62778516734906, 197.43550878442798, 1078.784043835182, 224.78352985529483, 408.2831280636451, 275.9531472702946, 225.6627776124576, 289.1841915376262, 187.72688570954568, 386.2298187194208, 224.77914983709877, 140.08618357156266, 255.65237578428903, 263.59440189853154, 492.09462715819217, 204.48704732704704, 396.8085664466189, 568.8469387984743, 1602.775006971498, 302.4142250315806, 423.27285306573424, 1383.9952371100626, 747.9257220375504, 438.27678874162416, 346.5225228355221, 485.0285936523443, 786.7417666831229, 575.0164170362959, 537.9559499509978, 433.8617872551613, 477.96872592130944, 693.220448122531, 564.4274345515315, 327.1124381240525, 714.3815874385123, 835.2392410222967, 600.5901678629175, 514.1375881356262, 632.3470293181587, 60.68416461837504, 46.56958647245284, 31.572965046283528, 27.162764856128263, 74.79759332549655, 15.694881066390648, 121.55187035946452, 54.50866410473257, 16.5767362826821, 15.69481100270128, 76.56132165927299, 15.694497076601637, 35.10063882296221, 30.68995611714312, 21.86894341585566, 43.92222578391537, 48.332904742046864, 54.50780048341675, 46.568297658874044, 24.514828623620947, 14.812119783510218, 21.86878230728751, 12.166235660862888, 18.34005767824951, 20.103890025427408, 11.283972530278783, 17.45789715008938, 17.458079785291208, 20.98628132908988, 15.693700275378234, 88.91096209490284, 33.33580717620859, 422.3678830347191, 161.2491095844131, 39.51065861412471, 144.48857760274623, 377.38247011309454, 205.35607922382493, 52.74307031725068, 99.49829673212503, 127.72610860339658, 48.33169214843115, 142.7227678135489, 110.08277623874456, 46.56757491731476, 509.71261621918086, 113.61061673598411, 87.14548945447916, 790.2448404019858, 462.9555266215131, 170.95312084850065, 125.96012237016176, 130.37259159707148, 330.628491479068, 835.2392410222967, 143.6052324445247, 230.9428482620928, 1602.775006971498, 1383.9952371100626, 714.3815874385123, 513.2447468205315, 632.3470293181587, 693.220448122531, 314.7497584235351, 600.5901678629175, 786.7417666831229, 289.1640836724857, 236.23673590008582, 411.80092981356427, 388.8552569467678, 747.9257220375504, 514.1375881356262, 564.4274345515315, 421.50455096606834, 345.62841715280763, 575.0164170362959, 537.9559499509978, 416.2115938862221, 437.3842509560054, 307.6960834240017, 477.96872592130944, 3705.2490420073686, 1078.784043835182, 568.8469387984743], \"Category\": [\"Default\", \"Default\", \"Default\", \"Default\", \"Default\", \"Default\", \"Default\", \"Default\", \"Default\", \"Default\", \"Default\", \"Default\", \"Default\", \"Default\", \"Default\", \"Default\", \"Default\", \"Default\", \"Default\", \"Default\", \"Default\", \"Default\", \"Default\", \"Default\", \"Default\", \"Default\", \"Default\", \"Default\", \"Default\", \"Default\", \"Topic1\", \"Topic1\", \"Topic1\", \"Topic1\", \"Topic1\", \"Topic1\", \"Topic1\", \"Topic1\", \"Topic1\", \"Topic1\", \"Topic1\", \"Topic1\", \"Topic1\", \"Topic1\", \"Topic1\", \"Topic1\", \"Topic1\", \"Topic1\", \"Topic1\", \"Topic1\", \"Topic1\", \"Topic1\", \"Topic1\", \"Topic1\", \"Topic1\", \"Topic1\", \"Topic1\", \"Topic1\", \"Topic1\", \"Topic1\", \"Topic1\", \"Topic1\", \"Topic1\", \"Topic1\", \"Topic1\", \"Topic1\", \"Topic1\", \"Topic1\", \"Topic1\", \"Topic1\", \"Topic1\", \"Topic1\", \"Topic1\", \"Topic1\", \"Topic1\", \"Topic1\", \"Topic1\", \"Topic1\", \"Topic1\", \"Topic1\", \"Topic1\", \"Topic1\", \"Topic1\", \"Topic1\", \"Topic1\", \"Topic1\", \"Topic1\", \"Topic1\", \"Topic1\", \"Topic1\", \"Topic1\", \"Topic1\", \"Topic1\", \"Topic1\", \"Topic1\", \"Topic1\", \"Topic1\", \"Topic1\", \"Topic1\", \"Topic1\", \"Topic1\", \"Topic1\", \"Topic1\", \"Topic1\", \"Topic1\", \"Topic1\", \"Topic1\", \"Topic1\", \"Topic1\", \"Topic1\", \"Topic1\", \"Topic1\", \"Topic1\", \"Topic1\", \"Topic1\", \"Topic2\", \"Topic2\", \"Topic2\", \"Topic2\", \"Topic2\", \"Topic2\", \"Topic2\", \"Topic2\", \"Topic2\", \"Topic2\", \"Topic2\", \"Topic2\", \"Topic2\", \"Topic2\", \"Topic2\", \"Topic2\", \"Topic2\", \"Topic2\", \"Topic2\", \"Topic2\", \"Topic2\", \"Topic2\", \"Topic2\", \"Topic2\", \"Topic2\", \"Topic2\", \"Topic2\", \"Topic2\", \"Topic2\", \"Topic2\", \"Topic2\", \"Topic2\", \"Topic2\", \"Topic2\", \"Topic2\", \"Topic2\", \"Topic2\", \"Topic2\", \"Topic2\", \"Topic2\", \"Topic2\", \"Topic2\", \"Topic2\", \"Topic2\", \"Topic2\", \"Topic2\", \"Topic2\", \"Topic2\", \"Topic2\", \"Topic2\", \"Topic2\", \"Topic2\", \"Topic2\", \"Topic2\", \"Topic2\", \"Topic2\", \"Topic2\", \"Topic2\", \"Topic2\", \"Topic2\", \"Topic2\", \"Topic2\", \"Topic2\", \"Topic2\", \"Topic2\", \"Topic2\", \"Topic2\", \"Topic2\", \"Topic2\", \"Topic2\", \"Topic2\", \"Topic2\", \"Topic2\", \"Topic2\", \"Topic2\", \"Topic2\", \"Topic2\", \"Topic2\", \"Topic2\", \"Topic2\", \"Topic2\", \"Topic2\", \"Topic2\", \"Topic2\"], \"logprob\": [30.0, 29.0, 28.0, 27.0, 26.0, 25.0, 24.0, 23.0, 22.0, 21.0, 20.0, 19.0, 18.0, 17.0, 16.0, 15.0, 14.0, 13.0, 12.0, 11.0, 10.0, 9.0, 8.0, 7.0, 6.0, 5.0, 4.0, 3.0, 2.0, 1.0, -7.1729, -6.8583, -7.3917, -8.0253, -7.8314, -7.5497, -7.4456, -7.9266, -7.9266, -7.7765, -7.749, -6.1936, -7.9631, -6.7853, -7.9655, -7.9329, -8.283, -8.1962, -8.2396, -8.0416, -8.1977, -8.2859, -7.7105, -8.1995, -8.436, -8.1195, -8.2007, -8.3858, -8.386, -7.57, -6.386, -5.1183, -7.3178, -7.4683, -3.097, -6.6881, -6.1098, -7.4364, -7.5192, -7.8276, -5.4654, -6.6786, -6.516, -6.9485, -6.9436, -5.6677, -7.0646, -6.0821, -4.5231, -5.968, -5.4257, -5.7902, -5.995, -5.7771, -6.1678, -5.5422, -6.0193, -6.4662, -5.9593, -5.9346, -5.4162, -6.1512, -5.6027, -5.3374, -4.5653, -5.8675, -5.609, -4.7231, -5.1973, -5.6029, -5.7731, -5.5375, -5.2033, -5.4862, -5.5675, -5.6876, -5.6429, -5.4649, -5.5658, -5.838, -5.5195, -5.4862, -5.6195, -5.6923, -5.6421, -7.0666, -7.3377, -7.7279, -7.8838, -6.8745, -8.4438, -6.3981, -7.2008, -8.3942, -8.4511, -6.8687, -8.457, -7.6525, -7.7869, -8.1268, -7.4304, -7.3359, -7.2176, -7.3752, -8.0169, -8.5222, -8.1348, -8.7222, -8.3127, -8.2217, -8.802, -8.3656, -8.3658, -8.1831, -8.4743, -6.7521, -7.7247, -5.234, -6.1793, -7.5577, -6.288, -5.3568, -5.9477, -7.2779, -6.6624, -6.4258, -7.3683, -6.3313, -6.5795, -7.4054, -5.1511, -6.5687, -6.8194, -4.772, -5.2949, -6.22, -6.5001, -6.4752, -5.6481, -4.8418, -6.3913, -6.0011, -4.376, -4.5133, -5.0727, -5.3509, -5.1943, -5.1638, -5.7922, -5.2986, -5.1561, -5.8877, -6.0388, -5.6546, -5.6962, -5.2665, -5.5217, -5.4587, -5.6708, -5.7971, -5.5011, -5.5523, -5.7011, -5.7135, -5.8847, -5.7167, -4.9683, -5.4188, -5.7151], \"loglift\": [30.0, 29.0, 28.0, 27.0, 26.0, 25.0, 24.0, 23.0, 22.0, 21.0, 20.0, 19.0, 18.0, 17.0, 16.0, 15.0, 14.0, 13.0, 12.0, 11.0, 10.0, 9.0, 8.0, 7.0, 6.0, 5.0, 4.0, 3.0, 2.0, 1.0, 0.6446, 0.6398, 0.6342, 0.6232, 0.6216, 0.6214, 0.6197, 0.6193, 0.6192, 0.619, 0.6189, 0.6159, 0.6159, 0.6153, 0.6134, 0.613, 0.6086, 0.6076, 0.6071, 0.6069, 0.6062, 0.6057, 0.6045, 0.6043, 0.6038, 0.6036, 0.6031, 0.6021, 0.6019, 0.6012, 0.5981, 0.5823, 0.5985, 0.5971, 0.5333, 0.5865, 0.5561, 0.5895, 0.5871, 0.5962, 0.5168, 0.5515, 0.5387, 0.5612, 0.5546, 0.4538, 0.5545, 0.4803, 0.3412, 0.4647, 0.4101, 0.4374, 0.4338, 0.4037, 0.445, 0.3492, 0.4135, 0.4393, 0.3448, 0.3388, 0.2329, 0.3761, 0.2617, 0.1669, -0.097, 0.2685, 0.1908, -0.108, 0.0332, 0.1621, 0.2268, 0.1261, -0.0233, 0.0072, -0.0075, 0.0875, 0.0354, -0.1584, -0.0538, 0.2196, -0.2431, -0.3661, -0.1696, -0.087, -0.2437, 0.6755, 0.6692, 0.6676, 0.6622, 0.6585, 0.6507, 0.6494, 0.6486, 0.6456, 0.6434, 0.641, 0.6375, 0.6372, 0.637, 0.636, 0.635, 0.6338, 0.6319, 0.6317, 0.6317, 0.6302, 0.6279, 0.627, 0.6261, 0.6252, 0.6224, 0.6224, 0.6222, 0.6209, 0.6203, 0.6081, 0.6165, 0.568, 0.5856, 0.6136, 0.5866, 0.5577, 0.5754, 0.6045, 0.5853, 0.5721, 0.6015, 0.5557, 0.5671, 0.6015, 0.4629, 0.5463, 0.5609, 0.4035, 0.4153, 0.4865, 0.5117, 0.5022, 0.3987, 0.2783, 0.4895, 0.4045, 0.0924, 0.1018, 0.2037, 0.2561, 0.2041, 0.1427, 0.3039, 0.1513, 0.0239, 0.2931, 0.3442, 0.1726, 0.1884, -0.036, 0.0836, 0.0534, 0.1332, 0.2054, -0.0076, 0.0078, 0.1155, 0.0536, 0.234, -0.0384, -1.338, -0.5546, -0.2109]}, \"token.table\": {\"Topic\": [1, 2, 1, 2, 1, 2, 1, 2, 1, 2, 1, 2, 1, 2, 1, 2, 1, 2, 1, 2, 1, 2, 1, 2, 1, 2, 1, 2, 1, 2, 1, 2, 1, 2, 1, 2, 1, 2, 1, 2, 1, 2, 1, 2, 1, 2, 1, 2, 1, 2, 1, 2, 1, 2, 1, 2, 1, 2, 1, 2, 1, 2, 1, 2, 1, 2, 1, 2, 1, 2, 1, 2, 1, 2, 1, 2, 1, 2, 1, 2, 1, 2, 1, 2, 1, 2, 1, 2, 1, 2, 1, 2, 1, 2, 1, 2, 1, 2, 1, 2, 1, 2, 1, 2, 1, 2, 1, 2, 1, 2, 1, 2, 1, 2, 1, 2, 1, 2, 1, 2, 1, 2, 1, 2, 1, 2, 1, 2, 1, 2, 1, 2, 1, 2, 1, 2, 1, 2, 1, 2, 1, 2, 1, 2, 1, 2, 1, 2, 1, 2, 1, 2, 1, 2, 1, 2, 1, 2, 1, 2, 1, 2, 1, 2, 1, 2, 1, 2, 1, 2, 1, 2, 1, 2, 1, 2, 1, 2, 1, 2, 1, 2, 1, 2, 1, 2, 1, 2, 1, 2, 1, 2, 1, 2, 1, 2, 1, 2, 1, 2, 1, 2, 1, 2, 1, 2, 1, 2, 1, 2, 1, 2, 1, 2, 1, 2, 1, 2, 1, 2, 1, 2, 1, 2, 1, 2, 1, 2, 1, 2, 1, 2, 1, 2, 1, 2, 1, 2, 1, 2, 1, 2, 1, 2, 1, 2, 1, 2, 1, 2, 1, 2, 1, 2, 1, 2, 1, 2, 1, 2, 1, 2, 1, 2, 1, 2, 1, 2, 1, 2, 1, 2, 1, 2, 1, 2, 1, 2, 1, 2, 1, 2, 1, 2, 1, 2, 1, 2, 1, 2, 1, 2, 1, 2, 1, 2, 1, 2, 1, 2, 1, 2, 1, 2], \"Freq\": [0.10122486348076487, 0.8997765642734655, 0.03681510351750467, 0.9571926914551215, 0.9363021642646835, 0.05201678690359353, 0.0733839920988363, 0.9172999012354537, 0.1373210471953246, 0.8618079513637612, 0.9266010177962913, 0.06949507633472185, 0.09145456623497157, 0.9145456623497157, 0.7642188143996294, 0.23514425058450134, 0.08219469257996233, 0.9041416183795857, 0.6023590725805811, 0.3992910519000064, 0.9218548497730586, 0.07845573189557946, 0.9350691122515163, 0.05844181951571977, 0.07338282942165722, 0.9356310751261296, 0.10737084782443544, 0.9019151217252578, 0.11456133478193624, 0.9164906782554899, 0.646217175416901, 0.3535905299450968, 0.12457732160315682, 0.8789622135333843, 0.952876971467869, 0.047643848573393446, 0.04294648399300375, 0.9448226478460825, 0.5577813190947738, 0.44253724490163876, 0.13309729847627977, 0.8690470665215915, 0.22365544107108976, 0.7769083742469434, 0.43709039573287783, 0.5640341410282351, 0.9467654833846633, 0.0518775607334062, 0.2019425024168449, 0.7938429405351833, 0.45169332801284895, 0.5477982914198382, 0.9511992653444509, 0.038047970613778036, 0.20473448993667184, 0.7955397323253535, 0.5293233349364636, 0.47074209628736874, 0.8783572719842473, 0.12429584037512934, 0.08546852993562766, 0.9116643193133617, 0.3834952940801568, 0.617492422671439, 0.14574073878820476, 0.8532457798145806, 0.26846468927947637, 0.7317827820682501, 0.1090509111305528, 0.9269327446096988, 0.08862127210223666, 0.8862127210223667, 0.9380919259582633, 0.08157321095289245, 0.40174607667180734, 0.5991195847231134, 0.06371532602895869, 0.9557298904343802, 0.9629596559253638, 0.0437708934511529, 0.42010589941679527, 0.5803775142232027, 0.9011568081465775, 0.10448194877061769, 0.916369476182525, 0.05727309226140781, 0.4588166078706682, 0.5411868335356386, 0.11456013631493661, 0.9164810905194929, 0.08589534514018811, 0.9233749602570221, 0.06371983550424337, 0.8920776970594072, 0.08275935455044622, 0.93104273869252, 0.4854477001418402, 0.5155667180338521, 0.032957527100808175, 0.9557682859234371, 0.7193283998169315, 0.28087178498006476, 0.8255860407459594, 0.1722081311985437, 0.12403169264962731, 0.8744234331798726, 0.7923693627023249, 0.2070154190843912, 0.4641949099305056, 0.5359454672450327, 0.7236388843735873, 0.2777208691379713, 0.7249569723237963, 0.2744479966654372, 0.3090120582722354, 0.6899858287448544, 0.06830254948278648, 0.9107006597704864, 0.6406509977574327, 0.3578410978464939, 0.09530035210324395, 0.9053533449808175, 0.6358669856543917, 0.36378928506188757, 0.15843589725271534, 0.8449914520144818, 0.09948323421339847, 0.8953491079205862, 0.5281273104552602, 0.4706349703297508, 0.36824536670043784, 0.6312777714864648, 0.06371660048227121, 0.9557490072340682, 0.25920416346623587, 0.7408919005743242, 0.9363678399840458, 0.07592171675546318, 0.06516790028522781, 0.9123506039931893, 0.8141165863789348, 0.18684642966073914, 0.9333869020924762, 0.06829660259213241, 0.3367754769087503, 0.6608424452549063, 0.9449487257627401, 0.04973414346119685, 0.9528938573471072, 0.04764469286735536, 0.8562319278341083, 0.14176025295266695, 0.9772428804377502, 0.01776805237159546, 0.9363016166440947, 0.05201675648022749, 0.14713840210437984, 0.854804050320683, 0.9485588559844232, 0.05855301580150761, 0.39927272513298023, 0.5989090876994704, 0.5147679113678524, 0.4852035380798338, 0.9156813422550366, 0.08343825314940755, 0.9616333347988957, 0.05061228077888925, 0.4687461208076966, 0.5309862696286356, 0.12060507962570538, 0.874386827286364, 0.8931109723722284, 0.10672395267341094, 0.717010674880546, 0.28073433831301803, 0.9188400521538221, 0.08259236423854581, 0.14917582173648367, 0.8606297407874057, 0.7936129816468108, 0.20655680344232064, 0.06751228147056054, 0.9451719405878475, 0.9550864275198302, 0.061618479194827755, 0.13147894185577888, 0.8667870981603201, 0.957118685468502, 0.03681225713340392, 0.11375902016909281, 0.8911123246578937, 0.07836855307569379, 0.9273612113957098, 0.8050101310057807, 0.19554901967751756, 0.9528824081702693, 0.04764412040851346, 0.34582441474046427, 0.6536081438594775, 0.7990331242807842, 0.2024217248177987, 0.5793472873094434, 0.4205937601819447, 0.8717362755865133, 0.1281965111156637, 0.0899933211199118, 0.8999332111991181, 0.06334533348604271, 0.9501800022906407, 0.9528787088907426, 0.04764393544453713, 0.9500991066760023, 0.06333994044506681, 0.957104437440217, 0.03681170913231604, 0.7887875966221095, 0.21270676762843402, 0.7740931493250185, 0.22688937135388473, 0.8908986629648065, 0.10329259860461525, 0.40889250475470945, 0.5889080728857136, 0.9192318480202212, 0.08754589028764011, 0.7433233644226781, 0.25429483519723195, 0.065815523663615, 0.9378712122065138, 0.9380709354320896, 0.04078569284487346, 0.10345178862441919, 0.889685382170005, 0.9122668411911411, 0.06516191722793864, 0.9571176831334625, 0.0736244371641125, 0.6679579969457636, 0.3306722757157246, 0.9392300426767839, 0.033543930095599424, 0.8887065490960072, 0.10861968933395644, 0.8888528145160348, 0.11657086092013572, 0.2682712865194523, 0.7314188849445445, 0.19175809649672998, 0.8053840052862659, 0.9651229007425962, 0.06032018129641226, 0.9250271078156488, 0.07115593137043452, 0.27220884563633524, 0.72891479775952, 0.5074764951012577, 0.4926053890177044, 0.060325505753790094, 0.9048825863068515, 0.08158327478875074, 0.9382076600706336, 0.4412763742970197, 0.5575266019344066, 0.9163706791399788, 0.05727316744624868, 0.05347765646139452, 0.9492284021897527, 0.4995285831294745, 0.500799648226496, 0.6189860703382067, 0.3803693027650812, 0.18259747265415796, 0.8177191166686204, 0.6047320931823966, 0.3955369795524396, 0.6653082174210442, 0.33517421559469274, 0.7715234315313081, 0.23023238909188243, 0.40009676375455183, 0.5993544405651192, 0.43124249090124267, 0.5677748625379295, 0.92294986294254, 0.04394999347345429, 0.9561270351057497, 0.04552985881455951, 0.3543894796390419, 0.6453240862346067, 0.13626109835264696, 0.8629869562334308, 0.09145389248892281, 0.9145389248892282, 0.48469966519513336, 0.514421814475967, 0.10123850475552527, 0.9111465427997275, 0.9511920853034104, 0.038047683412136414, 0.9683181862920631, 0.025821818301121683, 0.06371504159667837, 0.9557256239501756], \"Term\": [\"activity\", \"activity\", \"adapter\", \"adapter\", \"addsd\", \"addsd\", \"align\", \"align\", \"android\", \"android\", \"angular\", \"angular\", \"animal\", \"animal\", \"app\", \"app\", \"applicant\", \"applicant\", \"array\", \"array\", \"asset\", \"asset\", \"auth\", \"auth\", \"auto\", \"auto\", \"border\", \"border\", \"brace\", \"brace\", \"branch\", \"branch\", \"button\", \"button\", \"candidate\", \"candidate\", \"cellar\", \"cellar\", \"change\", \"change\", \"character\", \"character\", \"class\", \"class\", \"code\", \"code\", \"col\", \"col\", \"color\", \"color\", \"command\", \"command\", \"conda\", \"conda\", \"container\", \"container\", \"data\", \"data\", \"dataframe\", \"dataframe\", \"dialog\", \"dialog\", \"difference\", \"difference\", \"div\", \"div\", \"docker\", \"docker\", \"edittext\", \"edittext\", \"environmenterror\", \"environmenterror\", \"eri\", \"eri\", \"error\", \"error\", \"errormessage\", \"errormessage\", \"eugene\", \"eugene\", \"example\", \"example\", \"express\", \"express\", \"factorcount\", \"factorcount\", \"file\", \"file\", \"findviewbyid\", \"findviewbyid\", \"flex\", \"flex\", \"fluxcapacitor\", \"fluxcapacitor\", \"fragment\", \"fragment\", \"function\", \"function\", \"gem\", \"gem\", \"git\", \"git\", \"github\", \"github\", \"height\", \"height\", \"home\", \"home\", \"how\", \"how\", \"html\", \"html\", \"http\", \"http\", \"image\", \"image\", \"intent\", \"intent\", \"java\", \"java\", \"justify\", \"justify\", \"key\", \"key\", \"layout\", \"layout\", \"license\", \"license\", \"like\", \"like\", \"line\", \"line\", \"linearlayout\", \"linearlayout\", \"list\", \"list\", \"loader\", \"loader\", \"logo\", \"logo\", \"master\", \"master\", \"maven\", \"maven\", \"method\", \"method\", \"michaeljames\", \"michaeljames\", \"mmword\", \"mmword\", \"module\", \"module\", \"mul\", \"mul\", \"mulsd\", \"mulsd\", \"mysql\", \"mysql\", \"nan\", \"nan\", \"need\", \"need\", \"new\", \"new\", \"node\", \"node\", \"nvm\", \"nvm\", \"object\", \"object\", \"operator\", \"operator\", \"origin\", \"origin\", \"package\", \"package\", \"panda\", \"panda\", \"parent\", \"parent\", \"path\", \"path\", \"paw\", \"paw\", \"phase\", \"phase\", \"php\", \"php\", \"popcnt\", \"popcnt\", \"postgres\", \"postgres\", \"postgresql\", \"postgresql\", \"project\", \"project\", \"ptr\", \"ptr\", \"public\", \"public\", \"push\", \"push\", \"python\", \"python\", \"quot\", \"quot\", \"radio\", \"radio\", \"rake\", \"rake\", \"rbx\", \"rbx\", \"rcx\", \"rcx\", \"rdx\", \"rdx\", \"remote\", \"remote\", \"request\", \"request\", \"require\", \"require\", \"return\", \"return\", \"router\", \"router\", \"row\", \"row\", \"ruby\", \"ruby\", \"sc\", \"sc\", \"screen\", \"screen\", \"sec\", \"sec\", \"selenium\", \"selenium\", \"server\", \"server\", \"sprocket\", \"sprocket\", \"ssh\", \"ssh\", \"stash\", \"stash\", \"string\", \"string\", \"studio\", \"studio\", \"submodule\", \"submodule\", \"sun\", \"sun\", \"text\", \"text\", \"the\", \"the\", \"tocolor\", \"tocolor\", \"transition\", \"transition\", \"type\", \"type\", \"uint\", \"uint\", \"unexpected\", \"unexpected\", \"use\", \"use\", \"user\", \"user\", \"usr\", \"usr\", \"value\", \"value\", \"var\", \"var\", \"version\", \"version\", \"want\", \"want\", \"way\", \"way\", \"webdriver\", \"webdriver\", \"webpack\", \"webpack\", \"what\", \"what\", \"width\", \"width\", \"windowmanager\", \"windowmanager\", \"work\", \"work\", \"wrap\", \"wrap\", \"xerces\", \"xerces\", \"xmm\", \"xmm\", \"zjm\", \"zjm\"]}, \"R\": 30, \"lambda.step\": 0.01, \"plot.opts\": {\"xlab\": \"PC1\", \"ylab\": \"PC2\"}, \"topic.order\": [2, 1]};\n",
       "\n",
       "function LDAvis_load_lib(url, callback){\n",
       "  var s = document.createElement('script');\n",
       "  s.src = url;\n",
       "  s.async = true;\n",
       "  s.onreadystatechange = s.onload = callback;\n",
       "  s.onerror = function(){console.warn(\"failed to load library \" + url);};\n",
       "  document.getElementsByTagName(\"head\")[0].appendChild(s);\n",
       "}\n",
       "\n",
       "if(typeof(LDAvis) !== \"undefined\"){\n",
       "   // already loaded: just create the visualization\n",
       "   !function(LDAvis){\n",
       "       new LDAvis(\"#\" + \"ldavis_el1923021359620522281761798015133\", ldavis_el1923021359620522281761798015133_data);\n",
       "   }(LDAvis);\n",
       "}else if(typeof define === \"function\" && define.amd){\n",
       "   // require.js is available: use it to load d3/LDAvis\n",
       "   require.config({paths: {d3: \"https://d3js.org/d3.v5\"}});\n",
       "   require([\"d3\"], function(d3){\n",
       "      window.d3 = d3;\n",
       "      LDAvis_load_lib(\"https://cdn.jsdelivr.net/gh/bmabey/pyLDAvis@3.4.0/pyLDAvis/js/ldavis.v3.0.0.js\", function(){\n",
       "        new LDAvis(\"#\" + \"ldavis_el1923021359620522281761798015133\", ldavis_el1923021359620522281761798015133_data);\n",
       "      });\n",
       "    });\n",
       "}else{\n",
       "    // require.js not available: dynamically load d3 & LDAvis\n",
       "    LDAvis_load_lib(\"https://d3js.org/d3.v5.js\", function(){\n",
       "         LDAvis_load_lib(\"https://cdn.jsdelivr.net/gh/bmabey/pyLDAvis@3.4.0/pyLDAvis/js/ldavis.v3.0.0.js\", function(){\n",
       "                 new LDAvis(\"#\" + \"ldavis_el1923021359620522281761798015133\", ldavis_el1923021359620522281761798015133_data);\n",
       "            })\n",
       "         });\n",
       "}\n",
       "</script>"
      ],
      "text/plain": [
       "<IPython.core.display.HTML object>"
      ]
     },
     "metadata": {},
     "output_type": "display_data"
    },
    {
     "name": "stdout",
     "output_type": "stream",
     "text": [
      "Saving the LDA model.\n",
      "\n",
      "\n",
      "Unsupervised learning script finished.\n"
     ]
    }
   ],
   "source": [
    "print(\"Starting unsupervised learning script.\\n\")\n",
    "\n",
    "json_questions = load_cached_questions()\n",
    "\n",
    "questions = [{\n",
    "    \"body\": question['body'],\n",
    "    \"tags\": question['tags'],\n",
    "    \"title\": question['title']\n",
    "} for question in json_questions]\n",
    "print(f\"{len(questions)} questions loaded from cache.\\n\")\n",
    "\n",
    "questions = list(map(extract_and_clean_text, questions))\n",
    "print(\"Texts extracted and cleaned.\\n\")\n",
    "\n",
    "train_lda_model(questions)\n",
    "\n",
    "print(\"\\nUnsupervised learning script finished.\")"
   ]
  }
 ],
 "metadata": {
  "kernelspec": {
   "display_name": "Python 3 (ipykernel)",
   "language": "python",
   "name": "python3"
  },
  "language_info": {
   "codemirror_mode": {
    "name": "ipython",
    "version": 3
   },
   "file_extension": ".py",
   "mimetype": "text/x-python",
   "name": "python",
   "nbconvert_exporter": "python",
   "pygments_lexer": "ipython3",
   "version": "3.12.3"
  }
 },
 "nbformat": 4,
 "nbformat_minor": 4
}
